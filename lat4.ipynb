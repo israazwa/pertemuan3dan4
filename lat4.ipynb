{
 "cells": [
  {
   "cell_type": "code",
   "execution_count": 1,
   "metadata": {},
   "outputs": [
    {
     "name": "stdout",
     "output_type": "stream",
     "text": [
      "Tokenized Words: ['Makan', 'siang', 'bergizi', 'gratis', '.']\n"
     ]
    },
    {
     "name": "stderr",
     "output_type": "stream",
     "text": [
      "[nltk_data] Downloading package punkt_tab to\n",
      "[nltk_data]     C:\\Users\\ASUS\\AppData\\Roaming\\nltk_data...\n",
      "[nltk_data]   Package punkt_tab is already up-to-date!\n",
      "[nltk_data] Downloading package punkt to\n",
      "[nltk_data]     C:\\Users\\ASUS\\AppData\\Roaming\\nltk_data...\n",
      "[nltk_data]   Package punkt is already up-to-date!\n"
     ]
    }
   ],
   "source": [
    "import nltk\n",
    "nltk.download('punkt_tab')\n",
    "from nltk.tokenize import word_tokenize\n",
    "\n",
    "nltk.download('punkt')\n",
    "\n",
    "kalimat = \"Makan siang bergizi gratis.\"\n",
    "\n",
    "tokens = word_tokenize(kalimat)\n",
    "\n",
    "print(\"Tokenized Words:\", tokens)"
   ]
  },
  {
   "cell_type": "code",
   "execution_count": 2,
   "metadata": {},
   "outputs": [
    {
     "name": "stdout",
     "output_type": "stream",
     "text": [
      "Tokenized Sentences 1: ['m untuk mulyono.']\n",
      "Tokenized Sentences 2: ['Naso goreng anti kecap']\n",
      "Tokenized Sentences 3: ['Mobilelegend bang bangggg']\n"
     ]
    }
   ],
   "source": [
    "import nltk\n",
    "from nltk.tokenize import sent_tokenize\n",
    "\n",
    "paragraf1 = \"Naso goreng anti kecap\"\n",
    "paragraf2 = \"Mobilelegend bang bangggg\"\n",
    "kalimat = \"m untuk mulyono.\"\n",
    "\n",
    "sentences1 = sent_tokenize(kalimat)\n",
    "sentences2 = sent_tokenize(paragraf1)\n",
    "sentences3 = sent_tokenize(paragraf2)\n",
    "\n",
    "\n",
    "print(\"Tokenized Sentences 1:\", sentences1)\n",
    "print(\"Tokenized Sentences 2:\", sentences2)\n",
    "print(\"Tokenized Sentences 3:\", sentences3)"
   ]
  },
  {
   "cell_type": "code",
   "execution_count": null,
   "metadata": {},
   "outputs": [],
   "source": [
    "def hitung_bmi():\n",
    "    weight = float(input(\"Masukkan berat badan (kg): \"))\n",
    "    height = float(input(\"Masukkan tinggi badan (m): \"))\n",
    "\n",
    "    bmi = weight / (height * 2)\n",
    "\n",
    "    if bmi < 18.5:\n",
    "        kategori = \"Underweight (Kurus)\"\n",
    "    elif 18.5 <= bmi < 25:\n",
    "        kategori = \"Normal\"\n",
    "    elif 25 <= bmi < 30:\n",
    "        kategori = \"Overweight (Kelebihan berat badan)\"\n",
    "    else:\n",
    "        kategori = \"Obese (Obesitas)\"\n",
    "\n",
    "    print(f\"BMI Anda: {bmi:.2f} - {kategori}\")\n",
    "\n",
    "hitung_bmi()"
   ]
  }
 ],
 "metadata": {
  "kernelspec": {
   "display_name": "Python 3",
   "language": "python",
   "name": "python3"
  },
  "language_info": {
   "codemirror_mode": {
    "name": "ipython",
    "version": 3
   },
   "file_extension": ".py",
   "mimetype": "text/x-python",
   "name": "python",
   "nbconvert_exporter": "python",
   "pygments_lexer": "ipython3",
   "version": "3.13.2"
  }
 },
 "nbformat": 4,
 "nbformat_minor": 2
}
